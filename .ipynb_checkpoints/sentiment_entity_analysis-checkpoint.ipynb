{
 "cells": [
  {
   "cell_type": "markdown",
   "id": "5734465a",
   "metadata": {},
   "source": [
    "### importing required libraries"
   ]
  },
  {
   "cell_type": "code",
   "execution_count": 1,
   "id": "0d88b0c1",
   "metadata": {},
   "outputs": [],
   "source": [
    "import pandas as pd\n",
    "import numpy as np\n",
    "import re\n",
    "import string\n",
    "from string import punctuation\n",
    "\n",
    "\n",
    "from sklearn.feature_extraction.text import TfidfVectorizer\n",
    "from sklearn.feature_extraction.text import CountVectorizer\n",
    "from sklearn import model_selection\n",
    "from sklearn.model_selection import train_test_split\n",
    "from sklearn.preprocessing import OneHotEncoder\n",
    "\n",
    "from nltk.corpus import stopwords\n",
    "from nltk.tokenize import word_tokenize\n",
    "from nltk.stem import PorterStemmer\n",
    "from nltk.stem import WordNetLemmatizer\n",
    "\n",
    "\n",
    "from sklearn.metrics import accuracy_score\n",
    "from sklearn.naive_bayes import GaussianNB\n",
    "from sklearn.linear_model import LogisticRegression\n",
    "from sklearn.svm import SVC\n",
    "from sklearn.linear_model import SGDClassifier\n",
    "from sklearn.metrics import classification_report, confusion_matrix\n",
    "\n",
    "from sklearn.pipeline import Pipeline\n",
    "from sklearn.feature_extraction.text import TfidfTransformer\n",
    "\n",
    "\n",
    "stop_words = set(stopwords.words('english'))\n",
    "\n",
    "\n",
    "import tensorflow as tf\n",
    "from tensorflow.keras.models import Sequential\n",
    "from tensorflow.keras.layers import Dense, Activation, Dropout\n",
    "from tensorflow.keras.callbacks import EarlyStopping\n",
    "\n",
    "\n",
    "from keras.layers import Dense, Embedding, LSTM, SpatialDropout1D\n",
    "\n",
    "from warnings import filterwarnings\n",
    "filterwarnings('ignore')"
   ]
  },
  {
   "cell_type": "markdown",
   "id": "b0668818",
   "metadata": {},
   "source": [
    "### Loading datasets"
   ]
  },
  {
   "cell_type": "code",
   "execution_count": 2,
   "id": "f6a9f771",
   "metadata": {},
   "outputs": [],
   "source": [
    "# Load dataset\n",
    "dataset = pd.read_excel(f\"NLP_data_scientist_test\\\\data\\\\Entity_sentiment_trainV2.xlsx\")"
   ]
  },
  {
   "cell_type": "code",
   "execution_count": 3,
   "id": "0ae94100",
   "metadata": {},
   "outputs": [
    {
     "data": {
      "text/html": [
       "<div>\n",
       "<style scoped>\n",
       "    .dataframe tbody tr th:only-of-type {\n",
       "        vertical-align: middle;\n",
       "    }\n",
       "\n",
       "    .dataframe tbody tr th {\n",
       "        vertical-align: top;\n",
       "    }\n",
       "\n",
       "    .dataframe thead th {\n",
       "        text-align: right;\n",
       "    }\n",
       "</style>\n",
       "<table border=\"1\" class=\"dataframe\">\n",
       "  <thead>\n",
       "    <tr style=\"text-align: right;\">\n",
       "      <th></th>\n",
       "      <th>Sentence</th>\n",
       "      <th>Entity</th>\n",
       "      <th>Sentiment</th>\n",
       "    </tr>\n",
       "  </thead>\n",
       "  <tbody>\n",
       "    <tr>\n",
       "      <th>0</th>\n",
       "      <td>The website was very easy to use and my insura...</td>\n",
       "      <td>website</td>\n",
       "      <td>positive</td>\n",
       "    </tr>\n",
       "    <tr>\n",
       "      <th>1</th>\n",
       "      <td>The web sight was easy to understand and I got...</td>\n",
       "      <td>web sight</td>\n",
       "      <td>positive</td>\n",
       "    </tr>\n",
       "    <tr>\n",
       "      <th>2</th>\n",
       "      <td>Having filled in the application on-line I cou...</td>\n",
       "      <td>point</td>\n",
       "      <td>negative</td>\n",
       "    </tr>\n",
       "    <tr>\n",
       "      <th>3</th>\n",
       "      <td>After finding AXA was cheaper than my renewal ...</td>\n",
       "      <td>prices</td>\n",
       "      <td>positive</td>\n",
       "    </tr>\n",
       "    <tr>\n",
       "      <th>4</th>\n",
       "      <td>The quote was a reasonable price compared with...</td>\n",
       "      <td>insurances</td>\n",
       "      <td>positive</td>\n",
       "    </tr>\n",
       "  </tbody>\n",
       "</table>\n",
       "</div>"
      ],
      "text/plain": [
       "                                            Sentence      Entity Sentiment\n",
       "0  The website was very easy to use and my insura...     website  positive\n",
       "1  The web sight was easy to understand and I got...   web sight  positive\n",
       "2  Having filled in the application on-line I cou...       point  negative\n",
       "3  After finding AXA was cheaper than my renewal ...      prices  positive\n",
       "4  The quote was a reasonable price compared with...  insurances  positive"
      ]
     },
     "execution_count": 3,
     "metadata": {},
     "output_type": "execute_result"
    }
   ],
   "source": [
    "# checking top 5 rows\n",
    "dataset.head()"
   ]
  },
  {
   "cell_type": "code",
   "execution_count": 4,
   "id": "a77d5349",
   "metadata": {},
   "outputs": [
    {
     "data": {
      "text/plain": [
       "(5999, 3)"
      ]
     },
     "execution_count": 4,
     "metadata": {},
     "output_type": "execute_result"
    }
   ],
   "source": [
    "# checking dataset size(no of rows and columns)\n",
    "dataset.shape"
   ]
  },
  {
   "cell_type": "markdown",
   "id": "d8fb1c9a",
   "metadata": {},
   "source": [
    "### checking datatypes"
   ]
  },
  {
   "cell_type": "code",
   "execution_count": 5,
   "id": "0c2a9451",
   "metadata": {},
   "outputs": [
    {
     "data": {
      "text/plain": [
       "Sentence     object\n",
       "Entity       object\n",
       "Sentiment    object\n",
       "dtype: object"
      ]
     },
     "execution_count": 5,
     "metadata": {},
     "output_type": "execute_result"
    }
   ],
   "source": [
    "dataset.dtypes"
   ]
  },
  {
   "cell_type": "code",
   "execution_count": null,
   "id": "98c2ad39",
   "metadata": {},
   "outputs": [],
   "source": []
  },
  {
   "cell_type": "markdown",
   "id": "eebcae09",
   "metadata": {},
   "source": [
    "#### Checking NA values "
   ]
  },
  {
   "cell_type": "code",
   "execution_count": 6,
   "id": "1c46859a",
   "metadata": {},
   "outputs": [
    {
     "data": {
      "text/plain": [
       "Sentence     0\n",
       "Entity       0\n",
       "Sentiment    0\n",
       "dtype: int64"
      ]
     },
     "execution_count": 6,
     "metadata": {},
     "output_type": "execute_result"
    }
   ],
   "source": [
    "dataset.isnull().sum()"
   ]
  },
  {
   "cell_type": "markdown",
   "id": "234a8921",
   "metadata": {},
   "source": [
    "#### checking duplicate rows in dataset"
   ]
  },
  {
   "cell_type": "code",
   "execution_count": 7,
   "id": "7e359f72",
   "metadata": {},
   "outputs": [],
   "source": [
    "duplicates = dataset[dataset.duplicated()]"
   ]
  },
  {
   "cell_type": "code",
   "execution_count": 8,
   "id": "2951a788",
   "metadata": {},
   "outputs": [
    {
     "data": {
      "text/plain": [
       "(37, 3)"
      ]
     },
     "execution_count": 8,
     "metadata": {},
     "output_type": "execute_result"
    }
   ],
   "source": [
    "duplicates.shape"
   ]
  },
  {
   "cell_type": "markdown",
   "id": "364fbbed",
   "metadata": {},
   "source": [
    "#### droping duplicates"
   ]
  },
  {
   "cell_type": "code",
   "execution_count": 9,
   "id": "1394ee69",
   "metadata": {},
   "outputs": [],
   "source": [
    "dataset.drop_duplicates(inplace=True)"
   ]
  },
  {
   "cell_type": "code",
   "execution_count": 10,
   "id": "3abbafd0",
   "metadata": {},
   "outputs": [
    {
     "data": {
      "text/plain": [
       "(5962, 3)"
      ]
     },
     "execution_count": 10,
     "metadata": {},
     "output_type": "execute_result"
    }
   ],
   "source": [
    "dataset.shape"
   ]
  },
  {
   "cell_type": "markdown",
   "id": "c8c309e3",
   "metadata": {},
   "source": [
    "#### checking no of categories in entity column"
   ]
  },
  {
   "cell_type": "code",
   "execution_count": 11,
   "id": "a3e43ece",
   "metadata": {},
   "outputs": [],
   "source": [
    "entity_categories_df = pd.DataFrame(dataset['Entity'].value_counts())"
   ]
  },
  {
   "cell_type": "code",
   "execution_count": 12,
   "id": "800b0609",
   "metadata": {},
   "outputs": [
    {
     "data": {
      "text/html": [
       "<div>\n",
       "<style scoped>\n",
       "    .dataframe tbody tr th:only-of-type {\n",
       "        vertical-align: middle;\n",
       "    }\n",
       "\n",
       "    .dataframe tbody tr th {\n",
       "        vertical-align: top;\n",
       "    }\n",
       "\n",
       "    .dataframe thead th {\n",
       "        text-align: right;\n",
       "    }\n",
       "</style>\n",
       "<table border=\"1\" class=\"dataframe\">\n",
       "  <thead>\n",
       "    <tr style=\"text-align: right;\">\n",
       "      <th></th>\n",
       "      <th>Entity</th>\n",
       "    </tr>\n",
       "  </thead>\n",
       "  <tbody>\n",
       "    <tr>\n",
       "      <th>service</th>\n",
       "      <td>701</td>\n",
       "    </tr>\n",
       "    <tr>\n",
       "      <th>price</th>\n",
       "      <td>349</td>\n",
       "    </tr>\n",
       "    <tr>\n",
       "      <th>website</th>\n",
       "      <td>276</td>\n",
       "    </tr>\n",
       "    <tr>\n",
       "      <th>insurance</th>\n",
       "      <td>171</td>\n",
       "    </tr>\n",
       "    <tr>\n",
       "      <th>axa</th>\n",
       "      <td>144</td>\n",
       "    </tr>\n",
       "  </tbody>\n",
       "</table>\n",
       "</div>"
      ],
      "text/plain": [
       "           Entity\n",
       "service       701\n",
       "price         349\n",
       "website       276\n",
       "insurance     171\n",
       "axa           144"
      ]
     },
     "execution_count": 12,
     "metadata": {},
     "output_type": "execute_result"
    }
   ],
   "source": [
    "entity_categories_df.head()"
   ]
  },
  {
   "cell_type": "code",
   "execution_count": 13,
   "id": "a8c6090d",
   "metadata": {},
   "outputs": [
    {
     "data": {
      "text/plain": [
       "(748, 1)"
      ]
     },
     "execution_count": 13,
     "metadata": {},
     "output_type": "execute_result"
    }
   ],
   "source": [
    "entity_categories_df.shape"
   ]
  },
  {
   "cell_type": "code",
   "execution_count": 14,
   "id": "2ba1fb1a",
   "metadata": {},
   "outputs": [],
   "source": [
    "# filtering categories in entity column with single frequency categories\n",
    "other_cats = entity_categories_df[entity_categories_df['Entity'] == 1].index.tolist()"
   ]
  },
  {
   "cell_type": "code",
   "execution_count": 62,
   "id": "59681ddf",
   "metadata": {},
   "outputs": [
    {
     "data": {
      "text/plain": [
       "333"
      ]
     },
     "execution_count": 62,
     "metadata": {},
     "output_type": "execute_result"
    }
   ],
   "source": [
    "len(other_cats)"
   ]
  },
  {
   "cell_type": "markdown",
   "id": "bd430d03",
   "metadata": {},
   "source": [
    "#### converting single value categories into other category"
   ]
  },
  {
   "cell_type": "code",
   "execution_count": 15,
   "id": "581896e8",
   "metadata": {},
   "outputs": [],
   "source": [
    "dataset['Entity'] = dataset['Entity'].apply(lambda x:\"others\" if x in other_cats else x)"
   ]
  },
  {
   "cell_type": "code",
   "execution_count": 16,
   "id": "600d7d1d",
   "metadata": {},
   "outputs": [
    {
     "data": {
      "text/plain": [
       "service               701\n",
       "price                 349\n",
       "others                333\n",
       "website               276\n",
       "insurance             171\n",
       "                     ... \n",
       "axa policy              2\n",
       "levels                  2\n",
       "cause                   2\n",
       "insurance companys      2\n",
       "appointment             2\n",
       "Name: Entity, Length: 416, dtype: int64"
      ]
     },
     "execution_count": 16,
     "metadata": {},
     "output_type": "execute_result"
    }
   ],
   "source": [
    "dataset['Entity'].value_counts()"
   ]
  },
  {
   "cell_type": "markdown",
   "id": "d8263f3b",
   "metadata": {},
   "source": [
    "#### applying one hot encoding for entity column"
   ]
  },
  {
   "cell_type": "code",
   "execution_count": 17,
   "id": "07ba9f53",
   "metadata": {},
   "outputs": [],
   "source": [
    "entity_col = dataset[['Entity']]\n",
    "\n",
    "enc = OneHotEncoder(handle_unknown='ignore')\n",
    "enc.fit(entity_col)\n",
    "entity_enc = enc.transform(entity_col)"
   ]
  },
  {
   "cell_type": "code",
   "execution_count": 18,
   "id": "18fa2576",
   "metadata": {},
   "outputs": [
    {
     "data": {
      "text/plain": [
       "(5962, 416)"
      ]
     },
     "execution_count": 18,
     "metadata": {},
     "output_type": "execute_result"
    }
   ],
   "source": [
    "entity_enc.shape"
   ]
  },
  {
   "cell_type": "markdown",
   "id": "0aa5e9d0",
   "metadata": {},
   "source": [
    "#### applying preprocessing techniques on sentence column"
   ]
  },
  {
   "cell_type": "code",
   "execution_count": 19,
   "id": "ba5ea4e0",
   "metadata": {},
   "outputs": [],
   "source": [
    "REPLACE_BY_SPACE_RE = re.compile('[/(){}\\[\\]\\|@,;]')\n",
    "BAD_SYMBOLS_RE = re.compile('[^0-9a-z #+_]')\n",
    "STOPWORDS = set(stopwords.words('english'))"
   ]
  },
  {
   "cell_type": "code",
   "execution_count": 20,
   "id": "3253d2ff",
   "metadata": {},
   "outputs": [],
   "source": [
    "def clean_text(text):\n",
    "    \"\"\"\n",
    "        text: a string\n",
    "        \n",
    "        return: modified initial string\n",
    "    \"\"\"\n",
    "    text = text.lower() # lowercase text\n",
    "    text = REPLACE_BY_SPACE_RE.sub(' ', text) # replace REPLACE_BY_SPACE_RE symbols by space in text. substitute the matched string in REPLACE_BY_SPACE_RE with space.\n",
    "    text = BAD_SYMBOLS_RE.sub('', text) # remove symbols which are in BAD_SYMBOLS_RE from text. substitute the matched string in BAD_SYMBOLS_RE with nothing. \n",
    "    text = text.replace('x', '')\n",
    "    text = ' '.join(word for word in text.split() if word not in STOPWORDS) # remove stopwors from text\n",
    "    \n",
    "    return text"
   ]
  },
  {
   "cell_type": "code",
   "execution_count": 21,
   "id": "b0dc8610",
   "metadata": {},
   "outputs": [],
   "source": [
    "sentence_col =np.array(dataset['Sentence'].apply(clean_text)).ravel()"
   ]
  },
  {
   "cell_type": "code",
   "execution_count": 22,
   "id": "f79528e9",
   "metadata": {},
   "outputs": [
    {
     "data": {
      "text/plain": [
       "(5962,)"
      ]
     },
     "execution_count": 22,
     "metadata": {},
     "output_type": "execute_result"
    }
   ],
   "source": [
    "sentence_col.shape"
   ]
  },
  {
   "cell_type": "code",
   "execution_count": 23,
   "id": "4bc10db8",
   "metadata": {},
   "outputs": [],
   "source": [
    "def get_feature_vector(train_fit):\n",
    "    vector = TfidfVectorizer(sublinear_tf=True)\n",
    "    vector.fit(train_fit)\n",
    "    return vector"
   ]
  },
  {
   "cell_type": "code",
   "execution_count": 24,
   "id": "dccbc2d2",
   "metadata": {},
   "outputs": [],
   "source": [
    "tf_vector = get_feature_vector(sentence_col)\n",
    "sentence_col_tf = tf_vector.transform(sentence_col)"
   ]
  },
  {
   "cell_type": "markdown",
   "id": "7cdcec31",
   "metadata": {},
   "source": [
    "#### checking target class values"
   ]
  },
  {
   "cell_type": "code",
   "execution_count": 25,
   "id": "49c0faa4",
   "metadata": {},
   "outputs": [
    {
     "data": {
      "text/plain": [
       "positive    4075\n",
       "negative    1887\n",
       "Name: Sentiment, dtype: int64"
      ]
     },
     "execution_count": 25,
     "metadata": {},
     "output_type": "execute_result"
    }
   ],
   "source": [
    "dataset['Sentiment'].value_counts()"
   ]
  },
  {
   "cell_type": "markdown",
   "id": "50b95110",
   "metadata": {},
   "source": [
    "#### seperating X and y variables"
   ]
  },
  {
   "cell_type": "code",
   "execution_count": 26,
   "id": "f8671dc0",
   "metadata": {},
   "outputs": [],
   "source": [
    "X = np.concatenate([sentence_col_tf.toarray(), entity_enc.toarray()], axis=1)\n",
    "y = np.array(dataset['Sentiment']).ravel()"
   ]
  },
  {
   "cell_type": "markdown",
   "id": "8403ec1b",
   "metadata": {},
   "source": [
    "####  train and test splitting"
   ]
  },
  {
   "cell_type": "code",
   "execution_count": 27,
   "id": "c9dece9b",
   "metadata": {},
   "outputs": [],
   "source": [
    "X_train, X_test, y_train, y_test = train_test_split(X, y, test_size=0.2, random_state=30)"
   ]
  },
  {
   "cell_type": "markdown",
   "id": "9436adc1",
   "metadata": {},
   "source": [
    "### Model Building"
   ]
  },
  {
   "cell_type": "code",
   "execution_count": 28,
   "id": "f370eec0",
   "metadata": {},
   "outputs": [],
   "source": [
    "def mul_models(X_train: pd.DataFrame , y_train: pd.DataFrame, X_test: pd.DataFrame, y_test: pd.DataFrame) -> pd.DataFrame:\n",
    "\n",
    "    \n",
    "    dfs = []\n",
    "    \n",
    "    models = [\n",
    "              ('LogReg', LogisticRegression()), \n",
    "              ('SVM', SVC()), \n",
    "              ('GNB', GaussianNB()),\n",
    "              ('SGD', SGDClassifier())\n",
    "            ]\n",
    "    \n",
    "    results = []\n",
    "    names = []\n",
    "    scoring = ['accuracy', 'precision_weighted', 'recall_weighted', 'f1_weighted', 'roc_auc']\n",
    "    target_names = ['positive', 'negative']\n",
    "        \n",
    "    for name, model in models:\n",
    "        \n",
    "        kfold = model_selection.KFold(n_splits=5, shuffle=True, random_state=12345)\n",
    "        \n",
    "        cv_results = model_selection.cross_validate(model, X_train, y_train, cv=kfold, scoring=scoring)\n",
    "        \n",
    "        clf = model.fit(X_train, y_train)\n",
    "        y_pred = clf.predict(X_test)\n",
    "        \n",
    "        print(name)\n",
    "        print(classification_report(y_test, y_pred, target_names=target_names))\n",
    "        \n",
    "        results.append(cv_results)\n",
    "        names.append(name)\n",
    "\n",
    "        this_df = pd.DataFrame(cv_results)\n",
    "        this_df['model'] = name\n",
    "        \n",
    "        dfs.append(this_df)\n",
    "\n",
    "    final = pd.concat(dfs, ignore_index=True)\n",
    "    \n",
    "    \n",
    "    return final"
   ]
  },
  {
   "cell_type": "code",
   "execution_count": 29,
   "id": "409214ec",
   "metadata": {},
   "outputs": [
    {
     "name": "stdout",
     "output_type": "stream",
     "text": [
      "LogReg\n",
      "              precision    recall  f1-score   support\n",
      "\n",
      "    positive       0.85      0.72      0.78       399\n",
      "    negative       0.87      0.94      0.90       794\n",
      "\n",
      "    accuracy                           0.87      1193\n",
      "   macro avg       0.86      0.83      0.84      1193\n",
      "weighted avg       0.86      0.87      0.86      1193\n",
      "\n",
      "SVM\n",
      "              precision    recall  f1-score   support\n",
      "\n",
      "    positive       0.85      0.68      0.76       399\n",
      "    negative       0.86      0.94      0.89       794\n",
      "\n",
      "    accuracy                           0.85      1193\n",
      "   macro avg       0.85      0.81      0.83      1193\n",
      "weighted avg       0.85      0.85      0.85      1193\n",
      "\n",
      "GNB\n",
      "              precision    recall  f1-score   support\n",
      "\n",
      "    positive       0.41      0.79      0.54       399\n",
      "    negative       0.81      0.44      0.57       794\n",
      "\n",
      "    accuracy                           0.56      1193\n",
      "   macro avg       0.61      0.61      0.56      1193\n",
      "weighted avg       0.68      0.56      0.56      1193\n",
      "\n",
      "SGD\n",
      "              precision    recall  f1-score   support\n",
      "\n",
      "    positive       0.84      0.75      0.79       399\n",
      "    negative       0.88      0.93      0.90       794\n",
      "\n",
      "    accuracy                           0.87      1193\n",
      "   macro avg       0.86      0.84      0.85      1193\n",
      "weighted avg       0.87      0.87      0.87      1193\n",
      "\n"
     ]
    }
   ],
   "source": [
    "final = mul_models(X_train, y_train, X_test, y_test)"
   ]
  },
  {
   "cell_type": "code",
   "execution_count": 30,
   "id": "d320fb85",
   "metadata": {},
   "outputs": [
    {
     "data": {
      "text/html": [
       "<div>\n",
       "<style scoped>\n",
       "    .dataframe tbody tr th:only-of-type {\n",
       "        vertical-align: middle;\n",
       "    }\n",
       "\n",
       "    .dataframe tbody tr th {\n",
       "        vertical-align: top;\n",
       "    }\n",
       "\n",
       "    .dataframe thead th {\n",
       "        text-align: right;\n",
       "    }\n",
       "</style>\n",
       "<table border=\"1\" class=\"dataframe\">\n",
       "  <thead>\n",
       "    <tr style=\"text-align: right;\">\n",
       "      <th></th>\n",
       "      <th>fit_time</th>\n",
       "      <th>score_time</th>\n",
       "      <th>test_accuracy</th>\n",
       "      <th>test_precision_weighted</th>\n",
       "      <th>test_recall_weighted</th>\n",
       "      <th>test_f1_weighted</th>\n",
       "      <th>test_roc_auc</th>\n",
       "      <th>model</th>\n",
       "    </tr>\n",
       "  </thead>\n",
       "  <tbody>\n",
       "    <tr>\n",
       "      <th>16</th>\n",
       "      <td>1.381199</td>\n",
       "      <td>0.030247</td>\n",
       "      <td>0.889937</td>\n",
       "      <td>0.888398</td>\n",
       "      <td>0.889937</td>\n",
       "      <td>0.888443</td>\n",
       "      <td>0.949135</td>\n",
       "      <td>SGD</td>\n",
       "    </tr>\n",
       "    <tr>\n",
       "      <th>1</th>\n",
       "      <td>1.277526</td>\n",
       "      <td>0.046858</td>\n",
       "      <td>0.885744</td>\n",
       "      <td>0.886420</td>\n",
       "      <td>0.885744</td>\n",
       "      <td>0.881449</td>\n",
       "      <td>0.949198</td>\n",
       "      <td>LogReg</td>\n",
       "    </tr>\n",
       "    <tr>\n",
       "      <th>3</th>\n",
       "      <td>1.352544</td>\n",
       "      <td>0.031271</td>\n",
       "      <td>0.871069</td>\n",
       "      <td>0.868970</td>\n",
       "      <td>0.871069</td>\n",
       "      <td>0.869319</td>\n",
       "      <td>0.931249</td>\n",
       "      <td>LogReg</td>\n",
       "    </tr>\n",
       "    <tr>\n",
       "      <th>15</th>\n",
       "      <td>1.472953</td>\n",
       "      <td>0.028580</td>\n",
       "      <td>0.866876</td>\n",
       "      <td>0.864653</td>\n",
       "      <td>0.866876</td>\n",
       "      <td>0.865070</td>\n",
       "      <td>0.928308</td>\n",
       "      <td>SGD</td>\n",
       "    </tr>\n",
       "    <tr>\n",
       "      <th>17</th>\n",
       "      <td>1.474567</td>\n",
       "      <td>0.031986</td>\n",
       "      <td>0.865828</td>\n",
       "      <td>0.863955</td>\n",
       "      <td>0.865828</td>\n",
       "      <td>0.864159</td>\n",
       "      <td>0.919680</td>\n",
       "      <td>SGD</td>\n",
       "    </tr>\n",
       "    <tr>\n",
       "      <th>0</th>\n",
       "      <td>1.274100</td>\n",
       "      <td>0.041606</td>\n",
       "      <td>0.864780</td>\n",
       "      <td>0.862495</td>\n",
       "      <td>0.864780</td>\n",
       "      <td>0.862945</td>\n",
       "      <td>0.931447</td>\n",
       "      <td>LogReg</td>\n",
       "    </tr>\n",
       "    <tr>\n",
       "      <th>6</th>\n",
       "      <td>28.328792</td>\n",
       "      <td>22.323003</td>\n",
       "      <td>0.865828</td>\n",
       "      <td>0.863984</td>\n",
       "      <td>0.865828</td>\n",
       "      <td>0.861471</td>\n",
       "      <td>0.940730</td>\n",
       "      <td>SVM</td>\n",
       "    </tr>\n",
       "    <tr>\n",
       "      <th>5</th>\n",
       "      <td>23.307540</td>\n",
       "      <td>21.712829</td>\n",
       "      <td>0.863732</td>\n",
       "      <td>0.861121</td>\n",
       "      <td>0.863732</td>\n",
       "      <td>0.860963</td>\n",
       "      <td>0.924019</td>\n",
       "      <td>SVM</td>\n",
       "    </tr>\n",
       "    <tr>\n",
       "      <th>18</th>\n",
       "      <td>1.367096</td>\n",
       "      <td>0.030917</td>\n",
       "      <td>0.856394</td>\n",
       "      <td>0.856538</td>\n",
       "      <td>0.856394</td>\n",
       "      <td>0.856465</td>\n",
       "      <td>0.920973</td>\n",
       "      <td>SGD</td>\n",
       "    </tr>\n",
       "    <tr>\n",
       "      <th>2</th>\n",
       "      <td>1.211885</td>\n",
       "      <td>0.046862</td>\n",
       "      <td>0.857442</td>\n",
       "      <td>0.856006</td>\n",
       "      <td>0.857442</td>\n",
       "      <td>0.853185</td>\n",
       "      <td>0.920417</td>\n",
       "      <td>LogReg</td>\n",
       "    </tr>\n",
       "    <tr>\n",
       "      <th>8</th>\n",
       "      <td>25.080977</td>\n",
       "      <td>22.628316</td>\n",
       "      <td>0.854298</td>\n",
       "      <td>0.851330</td>\n",
       "      <td>0.854298</td>\n",
       "      <td>0.851613</td>\n",
       "      <td>0.919469</td>\n",
       "      <td>SVM</td>\n",
       "    </tr>\n",
       "    <tr>\n",
       "      <th>19</th>\n",
       "      <td>1.000355</td>\n",
       "      <td>0.035904</td>\n",
       "      <td>0.848898</td>\n",
       "      <td>0.854106</td>\n",
       "      <td>0.848898</td>\n",
       "      <td>0.850509</td>\n",
       "      <td>0.924258</td>\n",
       "      <td>SGD</td>\n",
       "    </tr>\n",
       "    <tr>\n",
       "      <th>4</th>\n",
       "      <td>1.045688</td>\n",
       "      <td>0.046857</td>\n",
       "      <td>0.845750</td>\n",
       "      <td>0.843762</td>\n",
       "      <td>0.845750</td>\n",
       "      <td>0.842612</td>\n",
       "      <td>0.924376</td>\n",
       "      <td>LogReg</td>\n",
       "    </tr>\n",
       "    <tr>\n",
       "      <th>9</th>\n",
       "      <td>25.073429</td>\n",
       "      <td>22.861351</td>\n",
       "      <td>0.840504</td>\n",
       "      <td>0.838363</td>\n",
       "      <td>0.840504</td>\n",
       "      <td>0.837003</td>\n",
       "      <td>0.916885</td>\n",
       "      <td>SVM</td>\n",
       "    </tr>\n",
       "    <tr>\n",
       "      <th>7</th>\n",
       "      <td>25.720957</td>\n",
       "      <td>22.096341</td>\n",
       "      <td>0.841719</td>\n",
       "      <td>0.840471</td>\n",
       "      <td>0.841719</td>\n",
       "      <td>0.835399</td>\n",
       "      <td>0.909298</td>\n",
       "      <td>SVM</td>\n",
       "    </tr>\n",
       "    <tr>\n",
       "      <th>11</th>\n",
       "      <td>0.311860</td>\n",
       "      <td>0.177525</td>\n",
       "      <td>0.562893</td>\n",
       "      <td>0.708392</td>\n",
       "      <td>0.562893</td>\n",
       "      <td>0.573948</td>\n",
       "      <td>0.634238</td>\n",
       "      <td>GNB</td>\n",
       "    </tr>\n",
       "    <tr>\n",
       "      <th>10</th>\n",
       "      <td>0.340208</td>\n",
       "      <td>0.185535</td>\n",
       "      <td>0.561845</td>\n",
       "      <td>0.712302</td>\n",
       "      <td>0.561845</td>\n",
       "      <td>0.572111</td>\n",
       "      <td>0.635275</td>\n",
       "      <td>GNB</td>\n",
       "    </tr>\n",
       "    <tr>\n",
       "      <th>14</th>\n",
       "      <td>0.335562</td>\n",
       "      <td>0.173715</td>\n",
       "      <td>0.556139</td>\n",
       "      <td>0.663670</td>\n",
       "      <td>0.556139</td>\n",
       "      <td>0.560949</td>\n",
       "      <td>0.609003</td>\n",
       "      <td>GNB</td>\n",
       "    </tr>\n",
       "    <tr>\n",
       "      <th>13</th>\n",
       "      <td>0.325915</td>\n",
       "      <td>0.200213</td>\n",
       "      <td>0.549266</td>\n",
       "      <td>0.691843</td>\n",
       "      <td>0.549266</td>\n",
       "      <td>0.560782</td>\n",
       "      <td>0.616302</td>\n",
       "      <td>GNB</td>\n",
       "    </tr>\n",
       "    <tr>\n",
       "      <th>12</th>\n",
       "      <td>0.314204</td>\n",
       "      <td>0.175768</td>\n",
       "      <td>0.531447</td>\n",
       "      <td>0.669106</td>\n",
       "      <td>0.531447</td>\n",
       "      <td>0.536154</td>\n",
       "      <td>0.600690</td>\n",
       "      <td>GNB</td>\n",
       "    </tr>\n",
       "  </tbody>\n",
       "</table>\n",
       "</div>"
      ],
      "text/plain": [
       "     fit_time  score_time  test_accuracy  test_precision_weighted  \\\n",
       "16   1.381199    0.030247       0.889937                 0.888398   \n",
       "1    1.277526    0.046858       0.885744                 0.886420   \n",
       "3    1.352544    0.031271       0.871069                 0.868970   \n",
       "15   1.472953    0.028580       0.866876                 0.864653   \n",
       "17   1.474567    0.031986       0.865828                 0.863955   \n",
       "0    1.274100    0.041606       0.864780                 0.862495   \n",
       "6   28.328792   22.323003       0.865828                 0.863984   \n",
       "5   23.307540   21.712829       0.863732                 0.861121   \n",
       "18   1.367096    0.030917       0.856394                 0.856538   \n",
       "2    1.211885    0.046862       0.857442                 0.856006   \n",
       "8   25.080977   22.628316       0.854298                 0.851330   \n",
       "19   1.000355    0.035904       0.848898                 0.854106   \n",
       "4    1.045688    0.046857       0.845750                 0.843762   \n",
       "9   25.073429   22.861351       0.840504                 0.838363   \n",
       "7   25.720957   22.096341       0.841719                 0.840471   \n",
       "11   0.311860    0.177525       0.562893                 0.708392   \n",
       "10   0.340208    0.185535       0.561845                 0.712302   \n",
       "14   0.335562    0.173715       0.556139                 0.663670   \n",
       "13   0.325915    0.200213       0.549266                 0.691843   \n",
       "12   0.314204    0.175768       0.531447                 0.669106   \n",
       "\n",
       "    test_recall_weighted  test_f1_weighted  test_roc_auc   model  \n",
       "16              0.889937          0.888443      0.949135     SGD  \n",
       "1               0.885744          0.881449      0.949198  LogReg  \n",
       "3               0.871069          0.869319      0.931249  LogReg  \n",
       "15              0.866876          0.865070      0.928308     SGD  \n",
       "17              0.865828          0.864159      0.919680     SGD  \n",
       "0               0.864780          0.862945      0.931447  LogReg  \n",
       "6               0.865828          0.861471      0.940730     SVM  \n",
       "5               0.863732          0.860963      0.924019     SVM  \n",
       "18              0.856394          0.856465      0.920973     SGD  \n",
       "2               0.857442          0.853185      0.920417  LogReg  \n",
       "8               0.854298          0.851613      0.919469     SVM  \n",
       "19              0.848898          0.850509      0.924258     SGD  \n",
       "4               0.845750          0.842612      0.924376  LogReg  \n",
       "9               0.840504          0.837003      0.916885     SVM  \n",
       "7               0.841719          0.835399      0.909298     SVM  \n",
       "11              0.562893          0.573948      0.634238     GNB  \n",
       "10              0.561845          0.572111      0.635275     GNB  \n",
       "14              0.556139          0.560949      0.609003     GNB  \n",
       "13              0.549266          0.560782      0.616302     GNB  \n",
       "12              0.531447          0.536154      0.600690     GNB  "
      ]
     },
     "execution_count": 30,
     "metadata": {},
     "output_type": "execute_result"
    }
   ],
   "source": [
    "final.sort_values(by=['test_f1_weighted', 'test_accuracy'], ascending=False)"
   ]
  },
  {
   "cell_type": "code",
   "execution_count": null,
   "id": "ae413950",
   "metadata": {},
   "outputs": [],
   "source": []
  },
  {
   "cell_type": "markdown",
   "id": "8cb0bc42",
   "metadata": {},
   "source": [
    "#### v. ANN"
   ]
  },
  {
   "cell_type": "code",
   "execution_count": 31,
   "id": "621306f5",
   "metadata": {},
   "outputs": [],
   "source": [
    "y_train_ann = pd.Series(y_train).replace({\"positive\":1, \"negative\":0})\n",
    "y_test_ann = pd.Series(y_test).replace({\"positive\":1, \"negative\":0})"
   ]
  },
  {
   "cell_type": "code",
   "execution_count": 32,
   "id": "01736337",
   "metadata": {},
   "outputs": [],
   "source": [
    "y_train_ann = np.asarray(y_train_ann).astype('float32').reshape((-1,1))\n",
    "y_test_ann = np.asarray(y_test_ann).astype('float32').reshape((-1,1))"
   ]
  },
  {
   "cell_type": "code",
   "execution_count": 33,
   "id": "27249256",
   "metadata": {},
   "outputs": [],
   "source": [
    "model = Sequential()\n",
    "model.add(Dense(units=4799, activation=\"relu\"))\n",
    "model.add(Dropout(0.5))\n",
    "model.add(Dense(units=2000, activation=\"relu\"))\n",
    "model.add(Dropout(0.5))\n",
    "model.add(Dense(units=500, activation=\"relu\"))\n",
    "model.add(Dropout(0.5))\n",
    "model.add(Dense(units=1, activation=\"sigmoid\"))\n",
    "opt = tf.keras.optimizers.Adam(learning_rate=0.001)\n",
    "model.compile(loss=\"binary_crossentropy\", optimizer=opt, metrics=[\"accuracy\"])\n",
    "early_stop = EarlyStopping(monitor=\"val_loss\", mode=\"min\", verbose=1, patience=2)"
   ]
  },
  {
   "cell_type": "code",
   "execution_count": 34,
   "id": "71169033",
   "metadata": {},
   "outputs": [],
   "source": [
    "model.build(input_shape=X_train.shape)"
   ]
  },
  {
   "cell_type": "code",
   "execution_count": 35,
   "id": "f36c9559",
   "metadata": {},
   "outputs": [
    {
     "name": "stdout",
     "output_type": "stream",
     "text": [
      "Model: \"sequential\"\n",
      "_________________________________________________________________\n",
      "Layer (type)                 Output Shape              Param #   \n",
      "=================================================================\n",
      "module_wrapper (ModuleWrappe (4769, 4799)              28026160  \n",
      "_________________________________________________________________\n",
      "dropout (Dropout)            (4769, 4799)              0         \n",
      "_________________________________________________________________\n",
      "module_wrapper_1 (ModuleWrap (4769, 2000)              9600000   \n",
      "_________________________________________________________________\n",
      "dropout_1 (Dropout)          (4769, 2000)              0         \n",
      "_________________________________________________________________\n",
      "module_wrapper_2 (ModuleWrap (4769, 500)               1000500   \n",
      "_________________________________________________________________\n",
      "dropout_2 (Dropout)          (4769, 500)               0         \n",
      "_________________________________________________________________\n",
      "module_wrapper_3 (ModuleWrap (4769, 1)                 501       \n",
      "=================================================================\n",
      "Total params: 38,627,161\n",
      "Trainable params: 38,627,161\n",
      "Non-trainable params: 0\n",
      "_________________________________________________________________\n"
     ]
    }
   ],
   "source": [
    "model.summary()"
   ]
  },
  {
   "cell_type": "code",
   "execution_count": 36,
   "id": "753ab274",
   "metadata": {},
   "outputs": [
    {
     "name": "stdout",
     "output_type": "stream",
     "text": [
      "Epoch 1/100\n",
      "48/48 [==============================] - 7s 147ms/step - loss: 0.4190 - accuracy: 0.7964 - val_loss: 0.3414 - val_accuracy: 0.8458\n",
      "Epoch 2/100\n",
      "48/48 [==============================] - 7s 137ms/step - loss: 0.1573 - accuracy: 0.9434 - val_loss: 0.3527 - val_accuracy: 0.8609\n",
      "Epoch 3/100\n",
      "48/48 [==============================] - 7s 137ms/step - loss: 0.0480 - accuracy: 0.9857 - val_loss: 0.4365 - val_accuracy: 0.8583\n",
      "Epoch 00003: early stopping\n"
     ]
    },
    {
     "data": {
      "text/plain": [
       "<tensorflow.python.keras.callbacks.History at 0x2af9629e310>"
      ]
     },
     "execution_count": 36,
     "metadata": {},
     "output_type": "execute_result"
    }
   ],
   "source": [
    "model.fit(\n",
    "    x=X_train,\n",
    "    y=y_train_ann,\n",
    "    batch_size=100,\n",
    "    epochs=100,\n",
    "    validation_data=(X_test, y_test_ann),\n",
    "    verbose=1,\n",
    "    callbacks=early_stop\n",
    ")"
   ]
  },
  {
   "cell_type": "code",
   "execution_count": 37,
   "id": "143e2fc9",
   "metadata": {},
   "outputs": [
    {
     "name": "stdout",
     "output_type": "stream",
     "text": [
      "150/150 [==============================] - 2s 14ms/step - loss: 0.0151 - accuracy: 0.9969\n",
      "Test set\n",
      "  Loss: 0.015\n",
      "  Accuracy: 0.997\n"
     ]
    }
   ],
   "source": [
    "accr = model.evaluate(X_train, y_train_ann)\n",
    "print('Test set\\n  Loss: {:0.3f}\\n  Accuracy: {:0.3f}'.format(accr[0],accr[1]))"
   ]
  },
  {
   "cell_type": "code",
   "execution_count": 38,
   "id": "c6f9daea",
   "metadata": {},
   "outputs": [
    {
     "name": "stdout",
     "output_type": "stream",
     "text": [
      "38/38 [==============================] - 1s 13ms/step - loss: 0.4365 - accuracy: 0.8583\n",
      "Test set\n",
      "  Loss: 0.437\n",
      "  Accuracy: 0.858\n"
     ]
    }
   ],
   "source": [
    "accr = model.evaluate(X_test, y_test_ann)\n",
    "print('Test set\\n  Loss: {:0.3f}\\n  Accuracy: {:0.3f}'.format(accr[0],accr[1]))"
   ]
  },
  {
   "cell_type": "code",
   "execution_count": null,
   "id": "d8f21183",
   "metadata": {},
   "outputs": [],
   "source": []
  },
  {
   "cell_type": "markdown",
   "id": "3fd5a3ce",
   "metadata": {},
   "source": [
    "#### Building SGD model After compared all model performances"
   ]
  },
  {
   "cell_type": "code",
   "execution_count": 44,
   "id": "c4165916",
   "metadata": {},
   "outputs": [],
   "source": [
    "SGD_model = SGDClassifier()\n",
    "SGD_model.fit(X_train, y_train)\n",
    "\n",
    "y_pred_test_sgd = SGD_model.predict(X_test)"
   ]
  },
  {
   "cell_type": "code",
   "execution_count": 45,
   "id": "5a94c1d1",
   "metadata": {},
   "outputs": [
    {
     "name": "stdout",
     "output_type": "stream",
     "text": [
      "test data\n",
      "[[316  83]\n",
      " [ 67 727]]\n"
     ]
    }
   ],
   "source": [
    "print(\"test data\")\n",
    "print(confusion_matrix(y_test, y_pred_test_sgd))"
   ]
  },
  {
   "cell_type": "code",
   "execution_count": 46,
   "id": "b5a50ec5",
   "metadata": {},
   "outputs": [
    {
     "name": "stdout",
     "output_type": "stream",
     "text": [
      "Test data:  \n",
      "               precision    recall  f1-score   support\n",
      "\n",
      "    negative       0.83      0.79      0.81       399\n",
      "    positive       0.90      0.92      0.91       794\n",
      "\n",
      "    accuracy                           0.87      1193\n",
      "   macro avg       0.86      0.85      0.86      1193\n",
      "weighted avg       0.87      0.87      0.87      1193\n",
      "\n"
     ]
    }
   ],
   "source": [
    "print(\"Test data: \", \"\\n\", classification_report(y_test, y_pred_test_sgd))"
   ]
  },
  {
   "cell_type": "markdown",
   "id": "7a67b929",
   "metadata": {},
   "source": [
    "#### Pickling model"
   ]
  },
  {
   "cell_type": "code",
   "execution_count": 50,
   "id": "8d78a4d1",
   "metadata": {},
   "outputs": [],
   "source": [
    "import pickle\n",
    "\n",
    "# Save the Modle to file in the current working directory\n",
    "\n",
    "Pkl_Filename = \"Pickle_SGD_Model.pkl\"  \n",
    "\n",
    "with open(Pkl_Filename, 'wb') as file:  \n",
    "    pickle.dump(SGD_model, file)"
   ]
  },
  {
   "cell_type": "code",
   "execution_count": null,
   "id": "2c15a6a8",
   "metadata": {},
   "outputs": [],
   "source": []
  },
  {
   "cell_type": "markdown",
   "id": "2ffe45ef",
   "metadata": {},
   "source": [
    "### performaing predictions on test data based on finalised model"
   ]
  },
  {
   "cell_type": "code",
   "execution_count": 51,
   "id": "5c7610bd",
   "metadata": {},
   "outputs": [],
   "source": [
    "test_ds = pd.read_excel(f\"NLP_data_scientist_test\\\\data\\\\Entity_sentiment_testV2.xlsx\")"
   ]
  },
  {
   "cell_type": "code",
   "execution_count": 52,
   "id": "d33b6194",
   "metadata": {},
   "outputs": [
    {
     "data": {
      "text/plain": [
       "(1290, 2)"
      ]
     },
     "execution_count": 52,
     "metadata": {},
     "output_type": "execute_result"
    }
   ],
   "source": [
    "test_ds.shape"
   ]
  },
  {
   "cell_type": "code",
   "execution_count": 53,
   "id": "7161ad01",
   "metadata": {},
   "outputs": [
    {
     "data": {
      "text/plain": [
       "Sentence    0\n",
       "Entity      0\n",
       "dtype: int64"
      ]
     },
     "execution_count": 53,
     "metadata": {},
     "output_type": "execute_result"
    }
   ],
   "source": [
    "test_ds.isnull().sum()"
   ]
  },
  {
   "cell_type": "code",
   "execution_count": 54,
   "id": "e5177a67",
   "metadata": {},
   "outputs": [],
   "source": [
    "test_ds.drop_duplicates(inplace=True)\n",
    "test_ds.dropna(axis=0, how='all')\n",
    "\n",
    "# applying one hot encoding for entity column\n",
    "test_ds['Entity'] = test_ds['Entity'].apply(lambda x:\"others\" if x in other_cats else x)\n",
    "entity_test_enc = enc.transform(test_ds[['Entity']])\n",
    "\n",
    "# tfidf for sentence column\n",
    "sentence_test_col =np.array(test_ds['Sentence'].apply(clean_text)).ravel()\n",
    "sentence_test_col_tf = tf_vector.transform(sentence_test_col)\n",
    "\n",
    "# concatenating both arrays\n",
    "test_feature = np.concatenate([sentence_test_col_tf.toarray(), entity_test_enc.toarray()], axis=1)"
   ]
  },
  {
   "cell_type": "code",
   "execution_count": 55,
   "id": "662bb94f",
   "metadata": {},
   "outputs": [],
   "source": [
    "Pkl_Filename = \"Pickle_SGD_Model.pkl\"  \n",
    "\n",
    "# Load the Model back from file\n",
    "with open(Pkl_Filename, 'rb') as file:  \n",
    "    Pickled_SGD_Model = pickle.load(file)"
   ]
  },
  {
   "cell_type": "code",
   "execution_count": 56,
   "id": "3153215c",
   "metadata": {},
   "outputs": [
    {
     "name": "stdout",
     "output_type": "stream",
     "text": [
      "['positive' 'positive' 'positive' ... 'negative' 'negative' 'negative']\n"
     ]
    }
   ],
   "source": [
    "# using best model and checking performance on test dataset\n",
    "test_prediction_lr = Pickled_SGD_Model.predict(test_feature)\n",
    "\n",
    "print(test_prediction_lr)"
   ]
  },
  {
   "cell_type": "code",
   "execution_count": 63,
   "id": "cec45fc6",
   "metadata": {},
   "outputs": [],
   "source": [
    "pred_data = pd.DataFrame(data=test_prediction_lr, columns=['predictions'])"
   ]
  },
  {
   "cell_type": "code",
   "execution_count": 64,
   "id": "0188e763",
   "metadata": {},
   "outputs": [],
   "source": [
    "pred_data.to_excel(\"test_predictions.xlsx\")"
   ]
  },
  {
   "cell_type": "code",
   "execution_count": null,
   "id": "dc906dd4",
   "metadata": {},
   "outputs": [],
   "source": []
  },
  {
   "cell_type": "code",
   "execution_count": null,
   "id": "d0a974a6",
   "metadata": {},
   "outputs": [],
   "source": []
  },
  {
   "cell_type": "code",
   "execution_count": null,
   "id": "39ee9054",
   "metadata": {},
   "outputs": [],
   "source": []
  },
  {
   "cell_type": "code",
   "execution_count": null,
   "id": "6677079b",
   "metadata": {},
   "outputs": [],
   "source": []
  },
  {
   "cell_type": "code",
   "execution_count": null,
   "id": "2b9b9ef6",
   "metadata": {},
   "outputs": [],
   "source": []
  },
  {
   "cell_type": "code",
   "execution_count": null,
   "id": "4f4218c6",
   "metadata": {},
   "outputs": [],
   "source": []
  },
  {
   "cell_type": "code",
   "execution_count": null,
   "id": "5d562592",
   "metadata": {},
   "outputs": [],
   "source": []
  },
  {
   "cell_type": "code",
   "execution_count": null,
   "id": "3fa6c640",
   "metadata": {},
   "outputs": [],
   "source": []
  },
  {
   "cell_type": "code",
   "execution_count": null,
   "id": "4c86d2e9",
   "metadata": {},
   "outputs": [],
   "source": []
  },
  {
   "cell_type": "code",
   "execution_count": null,
   "id": "058156f0",
   "metadata": {},
   "outputs": [],
   "source": []
  },
  {
   "cell_type": "code",
   "execution_count": null,
   "id": "7ea4fa72",
   "metadata": {},
   "outputs": [],
   "source": []
  },
  {
   "cell_type": "code",
   "execution_count": null,
   "id": "5a42711c",
   "metadata": {},
   "outputs": [],
   "source": []
  }
 ],
 "metadata": {
  "kernelspec": {
   "display_name": "Python 3",
   "language": "python",
   "name": "python3"
  },
  "language_info": {
   "codemirror_mode": {
    "name": "ipython",
    "version": 3
   },
   "file_extension": ".py",
   "mimetype": "text/x-python",
   "name": "python",
   "nbconvert_exporter": "python",
   "pygments_lexer": "ipython3",
   "version": "3.9.5"
  }
 },
 "nbformat": 4,
 "nbformat_minor": 5
}
